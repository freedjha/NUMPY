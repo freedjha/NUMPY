{
 "cells": [
  {
   "cell_type": "markdown",
   "id": "12fcead2-8cda-48a9-8864-b4c432f88074",
   "metadata": {},
   "source": [
    "# Python Numpy Arrays"
   ]
  },
  {
   "cell_type": "markdown",
   "id": "0aa46e57-b3b3-43df-95c9-d4ef0b383bad",
   "metadata": {},
   "source": [
    "NumPy is a general-purpose array-processing package. It provides a high-performance multidimensional array object, and tools for working with these arrays. It is the fundamental package for scientific computing with Python"
   ]
  },
  {
   "cell_type": "markdown",
   "id": "3543a64a-c1c8-457b-9f71-3fb883947c3d",
   "metadata": {},
   "source": [
    "# Array"
   ]
  },
  {
   "cell_type": "markdown",
   "id": "bf803fb9-a9af-44e1-927a-7ba466fce6b4",
   "metadata": {},
   "source": [
    "An array is a data structure that stores values of same data type. In Python, this is the main difference between arrays and lists. While python lists can contain values corresponding to different data types, arrays in python can only contain values corresponding to same data type"
   ]
  },
  {
   "cell_type": "code",
   "execution_count": 2,
   "id": "4d9b8b6d-a9cb-4723-8b54-ba05e0efd796",
   "metadata": {},
   "outputs": [],
   "source": [
    "## import the library\n",
    "import numpy as np"
   ]
  },
  {
   "cell_type": "code",
   "execution_count": 3,
   "id": "f869fea7-b591-4916-8976-9de819c2d623",
   "metadata": {},
   "outputs": [],
   "source": [
    "lst = [1,2,3,4]\n",
    "arr =np.array(lst) \n",
    "#creates single dimensional or 1D array. \n",
    "#Number of square braackets [] = it's dimension.\n",
    "#1d = [1 2 3 4] , 2d = [[1 2 3 4]]"
   ]
  },
  {
   "cell_type": "code",
   "execution_count": 4,
   "id": "0afac891-69fd-4dd1-90fd-8569b0f93533",
   "metadata": {},
   "outputs": [
    {
     "data": {
      "text/plain": [
       "numpy.ndarray"
      ]
     },
     "execution_count": 4,
     "metadata": {},
     "output_type": "execute_result"
    }
   ],
   "source": [
    "type(arr)"
   ]
  },
  {
   "cell_type": "code",
   "execution_count": 5,
   "id": "b976c137-0714-49d4-b7c6-6b518d83a298",
   "metadata": {},
   "outputs": [
    {
     "data": {
      "text/plain": [
       "(4,)"
      ]
     },
     "execution_count": 5,
     "metadata": {},
     "output_type": "execute_result"
    }
   ],
   "source": [
    "#the .shape attribute returns a tuple representing the dimensions of an array in the format (rows, columns)\n",
    "arr.shape "
   ]
  },
  {
   "cell_type": "markdown",
   "id": "2216ca7b-d92f-40dd-9eae-5b6c21c5be88",
   "metadata": {},
   "source": [
    "\n",
    "### 2D ARRAY CREATION\n"
   ]
  },
  {
   "cell_type": "code",
   "execution_count": 6,
   "id": "ace7c745-2bd8-4cd9-9aa3-df2ef5b4531c",
   "metadata": {},
   "outputs": [],
   "source": [
    "lst1 = [1,2,3,4]\n",
    "lst2 = [2,2,3,4]\n",
    "lst3 = [3,2,3,4]\n",
    "arr2d = np.array([lst1,lst2,lst3])"
   ]
  },
  {
   "cell_type": "code",
   "execution_count": 7,
   "id": "3cbbc441-a5b8-42c3-9427-672048c61fc7",
   "metadata": {},
   "outputs": [
    {
     "data": {
      "text/plain": [
       "array([[1, 2, 3, 4],\n",
       "       [2, 2, 3, 4],\n",
       "       [3, 2, 3, 4]])"
      ]
     },
     "execution_count": 7,
     "metadata": {},
     "output_type": "execute_result"
    }
   ],
   "source": [
    "arr2d"
   ]
  },
  {
   "cell_type": "code",
   "execution_count": 8,
   "id": "498d9db8-e178-456f-9ca9-b3f2926af33f",
   "metadata": {},
   "outputs": [
    {
     "data": {
      "text/plain": [
       "(3, 4)"
      ]
     },
     "execution_count": 8,
     "metadata": {},
     "output_type": "execute_result"
    }
   ],
   "source": [
    "arr2d.shape"
   ]
  },
  {
   "cell_type": "markdown",
   "id": "8196a806-21d0-4feb-afd5-5d82e0579814",
   "metadata": {},
   "source": [
    "### INDEXING in 1D ARRAY"
   ]
  },
  {
   "cell_type": "code",
   "execution_count": 9,
   "id": "b61ee1e3-6acb-47c7-b812-53c6c8b140a7",
   "metadata": {},
   "outputs": [
    {
     "data": {
      "text/plain": [
       "array([1, 2, 3, 4])"
      ]
     },
     "execution_count": 9,
     "metadata": {},
     "output_type": "execute_result"
    }
   ],
   "source": [
    "arr"
   ]
  },
  {
   "cell_type": "code",
   "execution_count": 10,
   "id": "230ee5e6-b8d6-4554-b1fa-73b82173e825",
   "metadata": {},
   "outputs": [
    {
     "data": {
      "text/plain": [
       "np.int64(2)"
      ]
     },
     "execution_count": 10,
     "metadata": {},
     "output_type": "execute_result"
    }
   ],
   "source": [
    "arr[1] #prints 0 index elements of 1d array"
   ]
  },
  {
   "cell_type": "code",
   "execution_count": 11,
   "id": "90b838c6-dd33-4538-92a7-53d6b758854b",
   "metadata": {},
   "outputs": [],
   "source": [
    "arr[1]=5 #changing element"
   ]
  },
  {
   "cell_type": "code",
   "execution_count": 12,
   "id": "49d6bb88-2931-4c6f-b813-757cea208e75",
   "metadata": {},
   "outputs": [
    {
     "data": {
      "text/plain": [
       "array([1, 5, 3, 4])"
      ]
     },
     "execution_count": 12,
     "metadata": {},
     "output_type": "execute_result"
    }
   ],
   "source": [
    "arr"
   ]
  },
  {
   "cell_type": "code",
   "execution_count": 13,
   "id": "06b780b8-3627-47be-b888-9818b2397a8a",
   "metadata": {},
   "outputs": [
    {
     "data": {
      "text/plain": [
       "array([5, 3, 4])"
      ]
     },
     "execution_count": 13,
     "metadata": {},
     "output_type": "execute_result"
    }
   ],
   "source": [
    "arr [1:]"
   ]
  },
  {
   "cell_type": "code",
   "execution_count": 14,
   "id": "d87ae191-4530-4279-ad12-15e43ccfaebc",
   "metadata": {},
   "outputs": [
    {
     "data": {
      "text/plain": [
       "array([5, 3])"
      ]
     },
     "execution_count": 14,
     "metadata": {},
     "output_type": "execute_result"
    }
   ],
   "source": [
    "arr [1:3]"
   ]
  },
  {
   "cell_type": "code",
   "execution_count": 15,
   "id": "d2ba295a-f099-4b2f-a6f3-541980df3aaf",
   "metadata": {},
   "outputs": [
    {
     "data": {
      "text/plain": [
       "np.int64(4)"
      ]
     },
     "execution_count": 15,
     "metadata": {},
     "output_type": "execute_result"
    }
   ],
   "source": [
    "arr[-1]"
   ]
  },
  {
   "cell_type": "code",
   "execution_count": 16,
   "id": "11bd0c31-5b0a-4621-83d5-faaec58b4070",
   "metadata": {},
   "outputs": [
    {
     "data": {
      "text/plain": [
       "array([1, 5, 3])"
      ]
     },
     "execution_count": 16,
     "metadata": {},
     "output_type": "execute_result"
    }
   ],
   "source": [
    "arr[:-1]"
   ]
  },
  {
   "cell_type": "code",
   "execution_count": 17,
   "id": "92af9e23-80e9-4f8e-a51f-67a3adf1abbc",
   "metadata": {},
   "outputs": [
    {
     "data": {
      "text/plain": [
       "array([1, 5, 3, 4])"
      ]
     },
     "execution_count": 17,
     "metadata": {},
     "output_type": "execute_result"
    }
   ],
   "source": [
    "arr[::] # prints complete array"
   ]
  },
  {
   "cell_type": "code",
   "execution_count": 18,
   "id": "81bbea42-dc87-4928-a3a5-4ad1d38d09ab",
   "metadata": {},
   "outputs": [
    {
     "data": {
      "text/plain": [
       "array([4, 1])"
      ]
     },
     "execution_count": 18,
     "metadata": {},
     "output_type": "execute_result"
    }
   ],
   "source": [
    "arr[::-3]"
   ]
  },
  {
   "cell_type": "markdown",
   "id": "c6837d47-279e-441f-a692-726ee4fa7587",
   "metadata": {},
   "source": [
    "### INDEXING in MULTIDIMENSIONAL ARRAY"
   ]
  },
  {
   "cell_type": "code",
   "execution_count": 19,
   "id": "40492657-702b-4120-860f-42e96c388c79",
   "metadata": {},
   "outputs": [
    {
     "data": {
      "text/plain": [
       "array([[1, 2, 3, 4],\n",
       "       [2, 2, 3, 4],\n",
       "       [3, 2, 3, 4]])"
      ]
     },
     "execution_count": 19,
     "metadata": {},
     "output_type": "execute_result"
    }
   ],
   "source": [
    "arr2d"
   ]
  },
  {
   "cell_type": "code",
   "execution_count": 20,
   "id": "95d528b8-7b9e-47ee-bb99-18c46e4dd039",
   "metadata": {},
   "outputs": [
    {
     "data": {
      "text/plain": [
       "array([2, 2, 2])"
      ]
     },
     "execution_count": 20,
     "metadata": {},
     "output_type": "execute_result"
    }
   ],
   "source": [
    "arr2d[:,1] # only prints second column"
   ]
  },
  {
   "cell_type": "code",
   "execution_count": 21,
   "id": "0d3788c2-074c-4a34-aca2-8d5142006eea",
   "metadata": {},
   "outputs": [
    {
     "data": {
      "text/plain": [
       "array([[2, 3],\n",
       "       [2, 3]])"
      ]
     },
     "execution_count": 21,
     "metadata": {},
     "output_type": "execute_result"
    }
   ],
   "source": [
    "# print 2 3 2 3\n",
    "arr2d[1:,1:3]\n",
    "# 1: → Selects rows from index 1 onwards (lst2 and lst3).\n",
    "# 1:3 → Selects columns from index 1 to 2 (excluding index 3)."
   ]
  },
  {
   "cell_type": "code",
   "execution_count": 22,
   "id": "3939e78a-b9b2-47ef-98fb-07112ee43b01",
   "metadata": {},
   "outputs": [
    {
     "data": {
      "text/plain": [
       "array([[2, 2],\n",
       "       [3, 2]])"
      ]
     },
     "execution_count": 22,
     "metadata": {},
     "output_type": "execute_result"
    }
   ],
   "source": [
    "# print 2 2 3 2\n",
    "arr2d[1:,0:2]"
   ]
  },
  {
   "cell_type": "code",
   "execution_count": 23,
   "id": "1cf7f240-7ca0-464b-87de-e5831f06a3f3",
   "metadata": {},
   "outputs": [
    {
     "data": {
      "text/plain": [
       "array([[3, 4],\n",
       "       [3, 4],\n",
       "       [3, 4]])"
      ]
     },
     "execution_count": 23,
     "metadata": {},
     "output_type": "execute_result"
    }
   ],
   "source": [
    "arr2d[:,2:]"
   ]
  },
  {
   "cell_type": "code",
   "execution_count": 24,
   "id": "e294554b-aa8f-4844-92d7-d8627db81b42",
   "metadata": {},
   "outputs": [
    {
     "data": {
      "text/plain": [
       "(3, 2)"
      ]
     },
     "execution_count": 24,
     "metadata": {},
     "output_type": "execute_result"
    }
   ],
   "source": [
    "arr2d[:,2:].shape"
   ]
  },
  {
   "cell_type": "code",
   "execution_count": 25,
   "id": "5be6a166-b2b1-4161-ba3d-b04cde884bc2",
   "metadata": {},
   "outputs": [
    {
     "data": {
      "text/plain": [
       "array([[1, 2, 3, 4],\n",
       "       [2, 2, 3, 4],\n",
       "       [3, 2, 3, 4]])"
      ]
     },
     "execution_count": 25,
     "metadata": {},
     "output_type": "execute_result"
    }
   ],
   "source": [
    "arr2d.reshape(3,4)"
   ]
  },
  {
   "cell_type": "markdown",
   "id": "8d731f0b-0e6c-4805-b950-6b0b49816049",
   "metadata": {},
   "source": [
    "### mechanism to create an array"
   ]
  },
  {
   "cell_type": "markdown",
   "id": "b6606f1c-9d11-4057-b67b-3fab341e9fc6",
   "metadata": {},
   "source": [
    "arange() is a built-in function, creates an array of evenly spaced values, similar to Python's range(), but returns a NumPy array"
   ]
  },
  {
   "cell_type": "code",
   "execution_count": 26,
   "id": "72820802-0378-41bc-99fa-25f6c1180770",
   "metadata": {
    "jupyter": {
     "source_hidden": true
    }
   },
   "outputs": [
    {
     "name": "stdout",
     "output_type": "stream",
     "text": [
      "[0 1 2 3 4]\n"
     ]
    }
   ],
   "source": [
    "arra = np.arange(5)\n",
    "print(arra)\n"
   ]
  },
  {
   "cell_type": "code",
   "execution_count": 46,
   "id": "4304eb20-093d-4b23-aaad-19c5611aac04",
   "metadata": {},
   "outputs": [
    {
     "data": {
      "text/plain": [
       "array([1, 3, 5, 7, 9])"
      ]
     },
     "execution_count": 46,
     "metadata": {},
     "output_type": "execute_result"
    }
   ],
   "source": [
    "np.arange(1,10,2) # range(start, stop, step) \n"
   ]
  },
  {
   "cell_type": "code",
   "execution_count": 28,
   "id": "6ba7a079-b2e6-49c4-8d4a-03e8e7071015",
   "metadata": {},
   "outputs": [
    {
     "data": {
      "text/plain": [
       "array([1, 3, 5, 7, 9])"
      ]
     },
     "execution_count": 28,
     "metadata": {},
     "output_type": "execute_result"
    }
   ],
   "source": [
    "np.arange(1,10,2)"
   ]
  },
  {
   "cell_type": "code",
   "execution_count": 29,
   "id": "692be134-d3f2-4120-aefa-a3a5db009600",
   "metadata": {},
   "outputs": [
    {
     "data": {
      "text/plain": [
       "array([[ 1,  3,  5,  7,  9],\n",
       "       [11, 13, 15, 17, 19]])"
      ]
     },
     "execution_count": 29,
     "metadata": {},
     "output_type": "execute_result"
    }
   ],
   "source": [
    "np.arange(1,20,2).reshape(2,5)"
   ]
  },
  {
   "cell_type": "code",
   "execution_count": 30,
   "id": "46cdfd8b-8a5a-4bbc-9255-0aee4e120fa0",
   "metadata": {},
   "outputs": [
    {
     "data": {
      "text/plain": [
       "array([[[ 1],\n",
       "        [ 3],\n",
       "        [ 5],\n",
       "        [ 7],\n",
       "        [ 9]],\n",
       "\n",
       "       [[11],\n",
       "        [13],\n",
       "        [15],\n",
       "        [17],\n",
       "        [19]]])"
      ]
     },
     "execution_count": 30,
     "metadata": {},
     "output_type": "execute_result"
    }
   ],
   "source": [
    "np.arange(1,20,2).reshape(2,5,1)"
   ]
  },
  {
   "cell_type": "code",
   "execution_count": 31,
   "id": "db7f0ec9-dbf3-474f-9fdf-55059caade32",
   "metadata": {},
   "outputs": [],
   "source": [
    "# Understanding the 3D Structure\n",
    "\n",
    "# Now, let's break it into its axes:\n",
    "# 2 → Two sub-arrays\n",
    "# 5 → Each array has 5 rows\n",
    "# 1 → Each row has only 1 column"
   ]
  },
  {
   "cell_type": "code",
   "execution_count": 32,
   "id": "00a7883e-8112-497d-bfec-3b2a65bbe6a0",
   "metadata": {},
   "outputs": [
    {
     "data": {
      "text/plain": [
       "array([ 1, 25,  9, 16])"
      ]
     },
     "execution_count": 32,
     "metadata": {},
     "output_type": "execute_result"
    }
   ],
   "source": [
    "arr *arr "
   ]
  },
  {
   "cell_type": "code",
   "execution_count": 33,
   "id": "c65971fb-4494-4bef-b4c3-fea44e64e40d",
   "metadata": {},
   "outputs": [
    {
     "data": {
      "text/plain": [
       "array([[ 1,  4,  9, 16],\n",
       "       [ 4,  4,  9, 16],\n",
       "       [ 9,  4,  9, 16]])"
      ]
     },
     "execution_count": 33,
     "metadata": {},
     "output_type": "execute_result"
    }
   ],
   "source": [
    "arr2d *arr2d"
   ]
  },
  {
   "cell_type": "code",
   "execution_count": 34,
   "id": "f18f8545-2a9d-42c8-87e1-9931a765133b",
   "metadata": {},
   "outputs": [
    {
     "name": "stdout",
     "output_type": "stream",
     "text": [
      "Mean: 3.25\n"
     ]
    }
   ],
   "source": [
    "mean_value = np.mean(arr)\n",
    "print(\"Mean:\", mean_value)"
   ]
  },
  {
   "cell_type": "code",
   "execution_count": 35,
   "id": "d4201a15-6ed9-4207-bc0a-fc8fdb7ed850",
   "metadata": {},
   "outputs": [
    {
     "data": {
      "text/plain": [
       "array([[1., 1., 1.],\n",
       "       [1., 1., 1.],\n",
       "       [1., 1., 1.],\n",
       "       [1., 1., 1.],\n",
       "       [1., 1., 1.]])"
      ]
     },
     "execution_count": 35,
     "metadata": {},
     "output_type": "execute_result"
    }
   ],
   "source": [
    "# numpy.ones() function creates a new array of the specified shape and fills it with ones.\n",
    "\n",
    "np.ones((5,3))  #here 5 is row and 3 is column that is specified"
   ]
  },
  {
   "cell_type": "code",
   "execution_count": 36,
   "id": "508275d7-3aa9-4241-bd8a-f64cce90480f",
   "metadata": {},
   "outputs": [
    {
     "data": {
      "text/plain": [
       "array([[0., 0., 0., 0., 0.],\n",
       "       [0., 0., 0., 0., 0.],\n",
       "       [0., 0., 0., 0., 0.],\n",
       "       [0., 0., 0., 0., 0.]])"
      ]
     },
     "execution_count": 36,
     "metadata": {},
     "output_type": "execute_result"
    }
   ],
   "source": [
    "np.zeros((4,5)) # similar to .one() in-built function"
   ]
  },
  {
   "cell_type": "code",
   "execution_count": 47,
   "id": "4d9d7b8c-f769-49cf-ac4e-afd896c4e406",
   "metadata": {},
   "outputs": [
    {
     "data": {
      "text/plain": [
       "array([[24, 46],\n",
       "       [42, 10]], dtype=int32)"
      ]
     },
     "execution_count": 47,
     "metadata": {},
     "output_type": "execute_result"
    }
   ],
   "source": [
    "np.random.randint(10,50,4) .reshape(2,2)"
   ]
  },
  {
   "cell_type": "code",
   "execution_count": 48,
   "id": "772a7687-4af5-4ab4-9165-409d99407dc4",
   "metadata": {},
   "outputs": [
    {
     "data": {
      "text/plain": [
       "array([[ 0.13635849, -0.29649661,  0.49249172,  0.41364003, -1.23812838,\n",
       "        -0.17925511],\n",
       "       [ 0.30417949,  0.49552043, -0.03690335,  0.78852467,  0.58757008,\n",
       "         0.38577845],\n",
       "       [-0.21193997, -0.81717618, -2.26705732, -0.28544376,  0.19490677,\n",
       "         0.08326221],\n",
       "       [ 0.11789082,  0.7305349 , -0.41511171, -1.06712726, -2.33658504,\n",
       "        -0.1223723 ],\n",
       "       [-1.22378719, -0.9790659 , -0.04673361, -1.20993848, -0.59285575,\n",
       "         2.26510696]])"
      ]
     },
     "execution_count": 48,
     "metadata": {},
     "output_type": "execute_result"
    }
   ],
   "source": [
    "np.random.randn(5,6)"
   ]
  },
  {
   "cell_type": "code",
   "execution_count": 51,
   "id": "6eecfa10-5b0e-4f4e-8bd8-ca4e59023cc9",
   "metadata": {},
   "outputs": [
    {
     "data": {
      "text/plain": [
       "array([[0.42182968, 0.9461766 , 0.08049201, 0.27391243, 0.10173161,\n",
       "        0.87777819, 0.08175577],\n",
       "       [0.26488634, 0.28121907, 0.10200598, 0.15270641, 0.81549381,\n",
       "        0.93381694, 0.5691208 ],\n",
       "       [0.16083568, 0.09813918, 0.68112542, 0.40113192, 0.37935653,\n",
       "        0.30274846, 0.89077458],\n",
       "       [0.91029654, 0.85110333, 0.07613441, 0.8409897 , 0.46689188,\n",
       "        0.79963358, 0.10520128]])"
      ]
     },
     "execution_count": 51,
     "metadata": {},
     "output_type": "execute_result"
    }
   ],
   "source": [
    "np.random.random_sample((4,7))"
   ]
  }
 ],
 "metadata": {
  "kernelspec": {
   "display_name": "Python 3 (ipykernel)",
   "language": "python",
   "name": "python3"
  },
  "language_info": {
   "codemirror_mode": {
    "name": "ipython",
    "version": 3
   },
   "file_extension": ".py",
   "mimetype": "text/x-python",
   "name": "python",
   "nbconvert_exporter": "python",
   "pygments_lexer": "ipython3",
   "version": "3.13.1"
  },
  "widgets": {
   "application/vnd.jupyter.widget-state+json": {
    "state": {},
    "version_major": 2,
    "version_minor": 0
   }
  }
 },
 "nbformat": 4,
 "nbformat_minor": 5
}
